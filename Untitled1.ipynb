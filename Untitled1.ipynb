{
  "nbformat": 4,
  "nbformat_minor": 0,
  "metadata": {
    "colab": {
      "provenance": [],
      "authorship_tag": "ABX9TyOOE8XsgWC596AcT97gm9+5",
      "include_colab_link": true
    },
    "kernelspec": {
      "name": "python3",
      "display_name": "Python 3"
    },
    "language_info": {
      "name": "python"
    }
  },
  "cells": [
    {
      "cell_type": "markdown",
      "metadata": {
        "id": "view-in-github",
        "colab_type": "text"
      },
      "source": [
        "<a href=\"https://colab.research.google.com/github/doheon03/22_2_basic-python/blob/main/Untitled1.ipynb\" target=\"_parent\"><img src=\"https://colab.research.google.com/assets/colab-badge.svg\" alt=\"Open In Colab\"/></a>"
      ]
    },
    {
      "cell_type": "markdown",
      "source": [
        "1.용자로부터 두 개의 정수를 받°圖 정수의 합 정수의 차 정수의 곱 졍수의 펑균, 큰\n",
        "수 작은 수를 계산하여 화면에 출럭하는 프로그랩을 작셩하라 파이썬이 제공하는 내\n",
        "장 함수 max(x, y), min(x, y)을 사용해보자. "
      ],
      "metadata": {
        "id": "YBpNurvchx4R"
      }
    },
    {
      "cell_type": "code",
      "execution_count": 12,
      "metadata": {
        "colab": {
          "base_uri": "https://localhost:8080/"
        },
        "id": "v5xexPkQacYq",
        "outputId": "ec1d0dae-c28a-4b93-b1d4-83f13a4d12b1"
      },
      "outputs": [
        {
          "output_type": "stream",
          "name": "stdout",
          "text": [
            "x의 값은?:9\n",
            "y의 값은?:6\n",
            "두 수의 합은 : 15\n",
            "두 수의 차는 : 3\n",
            "두 수의 곱은 : 54\n",
            "두 수의 평균은 : 7.5\n",
            "큰 수는? : 9\n",
            "작은  수는? : 6\n"
          ]
        }
      ],
      "source": [
        "x = int(input(\"x의 값은?:\"))\n",
        "y = int(input(\"y의 값은?:\") )\n",
        "print(\"두 수의 합은 :\",(x + y))\n",
        "print(\"두 수의 차는 :\", (x - y))\n",
        "print(\"두 수의 곱은 :\",x * y)\n",
        "print(\"두 수의 평균은 :\",(x + y)/2)\n",
        "print(\"큰 수는? :\",max(x,y))\n",
        "print(\"작은  수는? :\",min(x,y))"
      ]
    },
    {
      "cell_type": "code",
      "source": [
        "r = float(input(\"r의 값은?:\"))\n",
        "h = float(input(\"h의 값은?:\"))\n",
        "\n",
        "vol = 3.141592 * r**2 * h\n",
        "print(\"원기둥의 부피:\"  , vol)"
      ],
      "metadata": {
        "colab": {
          "base_uri": "https://localhost:8080/"
        },
        "id": "KeXHgZMWdYa9",
        "outputId": "ab4336cc-2acd-4273-a83f-c51aea220781"
      },
      "execution_count": 17,
      "outputs": [
        {
          "output_type": "stream",
          "name": "stdout",
          "text": [
            "r의 값은?:10\n",
            "h의 값은?:10\n",
            "원기둥의 부피: 3141.592\n"
          ]
        }
      ]
    },
    {
      "cell_type": "code",
      "source": [
        "number = int(input(\"정수를 입력하시오 :\"))\n",
        "\n",
        "sum = 0\n",
        "sum = sum + number % 10\n",
        "number = number //10 \n",
        "\n",
        "sum = sum + number % 10\n",
        "number = number // 10\n",
        "\n",
        "sum = sum + number % 10 \n",
        "number = number // 10\n",
        "\n",
        "sum = sum + number % 10\n",
        "number = number // 10\n",
        "print(\"자리 수의 합은:\",str(sum))"
      ],
      "metadata": {
        "colab": {
          "base_uri": "https://localhost:8080/"
        },
        "id": "wU7mK6lNfCMq",
        "outputId": "2bf34e93-31cb-49bb-9507-66042d864e50"
      },
      "execution_count": 18,
      "outputs": [
        {
          "output_type": "stream",
          "name": "stdout",
          "text": [
            "정수를 입력하시오 :1234\n",
            "자리 수의 합은: 10\n"
          ]
        }
      ]
    },
    {
      "cell_type": "code",
      "source": [
        " x1 = int(input(\"x1값을 입력하시오 :\"))\n",
        " y1 = int(input(\"y1값을 입력하시오 :\"))  \n",
        " x2 = int(input(\"x2값을 입력하시오 :\"))\n",
        " y2 = int(input(\"y2값을 입력하시오 :\"))\n",
        " dist = ((x2 - x1) **2 + (y2 - y1) **2 )** 0.5\n",
        "print(\"두점 사이의 거리는?\",dist, \"입니다.\")"
      ],
      "metadata": {
        "colab": {
          "base_uri": "https://localhost:8080/"
        },
        "id": "vc86kR0Ch4vy",
        "outputId": "31081b4f-a757-44b7-e769-892f51a460d2"
      },
      "execution_count": 22,
      "outputs": [
        {
          "output_type": "stream",
          "name": "stdout",
          "text": [
            "x1값을 입력하시오 :0\n",
            "y1값을 입력하시오 :0\n",
            "x2값을 입력하시오 :100\n",
            "y2값을 입력하시오 :100\n",
            "두점 사이의 거리는? 141.4213562373095 입니다.\n"
          ]
        }
      ]
    }
  ]
}